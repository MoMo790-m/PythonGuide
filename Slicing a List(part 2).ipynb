{
 "cells": [
  {
   "cell_type": "markdown",
   "metadata": {},
   "source": [
    "# ****Looping Through a Slice****\n",
    "\n",
    "In the previous part, we learned how to create a slice of a list. Now, we will see how to use this slice in a loop to work with just a portion of the list.\n",
    "\n",
    "Let's say you only want to access and print a specific part of your list, like the first few elements. Here's how you can do it using a loop :\n"
   ]
  },
  {
   "cell_type": "markdown",
   "metadata": {},
   "source": [
    "#### ***Example:***\n",
    "\n",
    "Imagine you have a list of numbers, and you want to print only the middle three numbers from that list:\n",
    "\n"
   ]
  },
  {
   "cell_type": "code",
   "execution_count": 5,
   "metadata": {},
   "outputs": [
    {
     "name": "stdout",
     "output_type": "stream",
     "text": [
      "30\n",
      "40\n",
      "50\n"
     ]
    }
   ],
   "source": [
    "numbers = [10, 20, 30, 40, 50, 60, 70]\n",
    "\n",
    "for nums in numbers[2:5]:\n",
    "    print(nums)"
   ]
  },
  {
   "cell_type": "markdown",
   "metadata": {},
   "source": [
    "- `numbers[2:5]` creates a slice that contains the numbers at index 2, 3, and 4 (which are 30, 40, and 50).  \n",
    "The loop then goes through each of these numbers and prints them.  \n",
    "\n",
    "This shows how slices can be used to focus on a specific range of elements in a list. You can create slices to access any part of the list that you need.\n"
   ]
  },
  {
   "cell_type": "markdown",
   "metadata": {},
   "source": [
    "****Now that we’ve got the hang of looping through slices, let’s move on to something equally important: `copying lists`. Knowing how to copy a list the right way will save you from accidentally changing the original list when you don’t mean to.****\n"
   ]
  },
  {
   "cell_type": "markdown",
   "metadata": {},
   "source": [
    "--------------------"
   ]
  },
  {
   "cell_type": "markdown",
   "metadata": {},
   "source": [
    "# ****Copying a List****\n",
    "\n",
    "A lot of times, you’ll want to start with an existing list and create a whole new one based on it. Let’s see how copying a list works and check out one example where copying is really useful.\n",
    "\n",
    "To copy a list, you can use a slice that includes the entire original list by leaving out both the first and second indices `([:])`. This tells Python to copy everything from the beginning to the end of the list."
   ]
  },
  {
   "cell_type": "markdown",
   "metadata": {},
   "source": [
    "#### ***Example***:\n",
    "\n",
    "Let’s say we have a list of our favorite sports, and we want to create a new list for a friend who likes the same sports. By copying the original list, we can give them the same list without affecting our own."
   ]
  },
  {
   "cell_type": "code",
   "execution_count": 7,
   "metadata": {},
   "outputs": [
    {
     "name": "stdout",
     "output_type": "stream",
     "text": [
      "My favorite sports are : ['Soccer', 'Basketball', 'Tennis', 'Baseball']\n",
      "My friend's favorite sports are: ['Soccer', 'Basketball', 'Tennis', 'Baseball']\n"
     ]
    }
   ],
   "source": [
    "favorite_sports = ['Soccer', 'Basketball', 'Tennis', 'Baseball']\n",
    "friend_sport = favorite_sports[:]\n",
    "\n",
    "print('My favorite sports are :',favorite_sports)\n",
    "print('My friend\\'s favorite sports are:',friend_sport)"
   ]
  },
  {
   "cell_type": "markdown",
   "metadata": {},
   "source": [
    "When we print both lists, we can see that both `favorite_sports` and `friend_sport` have the same items. But, here’s the important part: **the two lists are independent**. That means if we change one list, it won’t affect the other.\n",
    "\n",
    "- `favorite_sports` is the original list with the sports we like.\n",
    "- `friend_sport` is just a **copy** of that list. Even though they both have the same sports, they are now separate lists. Any changes made to one list won't impact the other.\n"
   ]
  },
  {
   "cell_type": "markdown",
   "metadata": {},
   "source": [
    "***To prove that we actually have two separate lists, let's add a new sport to each list and see that each list keeps track of the appropriate person's favorite sports:***\n"
   ]
  },
  {
   "cell_type": "code",
   "execution_count": 8,
   "metadata": {},
   "outputs": [
    {
     "name": "stdout",
     "output_type": "stream",
     "text": [
      "My favorite sports are : ['Soccer', 'Basketball', 'Tennis', 'Baseball', 'Football']\n",
      "My friend's favorite sports are: ['Soccer', 'Basketball', 'Tennis', 'Baseball', 'Cricket']\n"
     ]
    }
   ],
   "source": [
    "favorite_sports = ['Soccer', 'Basketball', 'Tennis', 'Baseball']\n",
    "friend_sport = favorite_sports[:]\n",
    "\n",
    "favorite_sports.append('Football')\n",
    "friend_sport.append('Cricket')\n",
    "\n",
    "print('My favorite sports are :',favorite_sports)\n",
    "print('My friend\\'s favorite sports are:',friend_sport)"
   ]
  },
  {
   "cell_type": "markdown",
   "metadata": {},
   "source": [
    "By looking at the output, it’s clear that the two lists are completely independent:  \n",
    "- Changes to `favorite_sports` don’t affect `friend_sport`.  \n",
    "- Similarly, updates to `friend_sport` don’t impact `favorite_sports`.  "
   ]
  },
  {
   "cell_type": "markdown",
   "metadata": {},
   "source": [
    "### ***What If We Didn’t Use a Slice?***\n",
    "\n",
    "If we had directly set `friend_sport` equal to `favorite_sports` without using a slice, we wouldn’t have two separate lists. Instead, both variables would point to the **same list**. Here’s what that looks like:\n"
   ]
  },
  {
   "cell_type": "code",
   "execution_count": 9,
   "metadata": {},
   "outputs": [
    {
     "name": "stdout",
     "output_type": "stream",
     "text": [
      "My favorite sports are: ['Soccer', 'Basketball', 'Tennis', 'Baseball', 'Football', 'Cricket']\n",
      "My friend's favorite sports are: ['Soccer', 'Basketball', 'Tennis', 'Baseball', 'Football', 'Cricket']\n"
     ]
    }
   ],
   "source": [
    "favorite_sports = ['Soccer', 'Basketball', 'Tennis', 'Baseball']\n",
    "friend_sport = favorite_sports  # No slicing, just assigning directly\n",
    "\n",
    "favorite_sports.append('Football')\n",
    "friend_sport.append('Cricket')\n",
    "\n",
    "print('My favorite sports are:', favorite_sports)\n",
    "print('My friend\\'s favorite sports are:', friend_sport)"
   ]
  },
  {
   "cell_type": "markdown",
   "metadata": {},
   "source": [
    "When we skip slicing and directly assign `friend_sport = favorite_sports`, here’s what happens:\n",
    "\n",
    "- Both variables **point to the same list in memory**.  \n",
    "- So, any change made to one of the variables (like adding `'Football'` or `'Cricket'`) updates the same shared list.  \n",
    "- As a result, both variables will always show the exact same content."
   ]
  },
  {
   "cell_type": "markdown",
   "metadata": {},
   "source": [
    "****By skipping the slicing, the two variables become `linked`, and changes to one will automatically affect the other. This behavior is why slicing (`[:]`) is crucial when you need `independent lists`.****"
   ]
  },
  {
   "cell_type": "markdown",
   "metadata": {},
   "source": [
    "### ***Don’t stress over the details right now. The key takeaway is this: if you’re working with a copy of a list and something doesn’t seem right, double-check how you’re copying it. Always use slicing (`[:]`) to ensure you’re creating a true copy, like we showed earlier. Simple and effective.***"
   ]
  },
  {
   "cell_type": "markdown",
   "metadata": {},
   "source": [
    "-------"
   ]
  },
  {
   "cell_type": "markdown",
   "metadata": {},
   "source": [
    "That’s it for ***slicing*** and ***copying*** lists. Next up, we’re diving into ***tuples***—stay tuned for more fun and learning. See you there.  \n"
   ]
  }
 ],
 "metadata": {
  "kernelspec": {
   "display_name": "Python 3",
   "language": "python",
   "name": "python3"
  },
  "language_info": {
   "codemirror_mode": {
    "name": "ipython",
    "version": 3
   },
   "file_extension": ".py",
   "mimetype": "text/x-python",
   "name": "python",
   "nbconvert_exporter": "python",
   "pygments_lexer": "ipython3",
   "version": "3.12.6"
  }
 },
 "nbformat": 4,
 "nbformat_minor": 2
}

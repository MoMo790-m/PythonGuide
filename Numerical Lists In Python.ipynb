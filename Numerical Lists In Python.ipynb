{
 "cells": [
  {
   "cell_type": "markdown",
   "metadata": {},
   "source": [
    "# ***Introduction to Numerical Lists in Python***  \n",
    "\n",
    "Storing numbers in a list is super useful for so many things! For example:  \n",
    "- **Gaming**: Keep track of player positions or high scores.  \n",
    "- **Data Visualization**: Use numbers for things like temperatures, distances, or population sizes.  \n",
    "- **Coordinates**: Work with latitude and longitude for mapping or GPS data.  \n",
    "\n",
    "Lists are perfect for handling sets of numbers, and Python gives you tons of tools to work with them easily and efficiently. Once you get the hang of it, you'll be able to deal with lists containing thousands or even millions of items without a problem.  \n",
    "\n",
    "In this section, we’ll explore how to create, manage, and use numerical lists in a way that’s simple and effective. Let’s dive in!\n"
   ]
  },
  {
   "cell_type": "markdown",
   "metadata": {},
   "source": [
    "## ***Using the `range()` Function***\n",
    "\n",
    "The `range()` function in Python is a super handy tool that lets you create a series of numbers easily. Whether you need numbers for a loop or want to generate a specific sequence, `range()` has got you covered.  \n",
    "\n",
    "For example:  \n",
    "- Want numbers from 1 to 10? Use `range(1, 11)`.  \n",
    "- Need only even numbers? Combine `range()` with a step value like `range(2, 11, 2)`.  \n",
    "- Starting from zero by default? Just use `range(n)`, and it’ll go from 0 to n-1.  \n",
    "\n",
    "It’s simple, flexible, and saves you a ton of time when working with numerical sequences. Ready to see it in action? Let’s jump in!\n"
   ]
  },
  {
   "cell_type": "code",
   "execution_count": 6,
   "metadata": {},
   "outputs": [
    {
     "name": "stdout",
     "output_type": "stream",
     "text": [
      "0\n",
      "1\n",
      "2\n",
      "3\n",
      "4\n",
      "5\n",
      "6\n",
      "7\n",
      "8\n",
      "9\n",
      "10\n"
     ]
    }
   ],
   "source": [
    "for num1 in range(11):\n",
    "    print(num1)"
   ]
  },
  {
   "cell_type": "code",
   "execution_count": 7,
   "metadata": {},
   "outputs": [
    {
     "name": "stdout",
     "output_type": "stream",
     "text": [
      "1\n",
      "2\n",
      "3\n",
      "4\n",
      "5\n",
      "6\n",
      "7\n",
      "8\n",
      "9\n",
      "10\n"
     ]
    }
   ],
   "source": [
    "for num2 in range(1,11):\n",
    "    print(num2)"
   ]
  },
  {
   "cell_type": "code",
   "execution_count": 8,
   "metadata": {},
   "outputs": [
    {
     "name": "stdout",
     "output_type": "stream",
     "text": [
      "2\n",
      "4\n",
      "6\n",
      "8\n",
      "10\n"
     ]
    }
   ],
   "source": [
    "for even_num in range(2,11,2):\n",
    "    print(even_num)"
   ]
  },
  {
   "cell_type": "markdown",
   "metadata": {},
   "source": [
    "****One thing you’ll notice often in programming is the **off-by-one behavior**, and Python’s `range()` function is no exception. Here’s the deal:****\n",
    "\n",
    "- **Start**: `range()` begins counting from the first value you give it. \n",
    "- If you don’t give `range()` a starting number, Python automatically starts counting from **0**.\n",
    "- **Stop**: It stops *before* the second value you provide.\n"
   ]
  },
  {
   "cell_type": "markdown",
   "metadata": {},
   "source": [
    "---"
   ]
  },
  {
   "cell_type": "markdown",
   "metadata": {},
   "source": [
    "****Wanna make a list of numbers? It's super easy! You can use `range()` to create the numbers, then turn that range into a list using the `list()` function. Check this out:**** \n"
   ]
  },
  {
   "cell_type": "code",
   "execution_count": 9,
   "metadata": {},
   "outputs": [
    {
     "name": "stdout",
     "output_type": "stream",
     "text": [
      "[1, 2, 3, 4, 5]\n"
     ]
    }
   ],
   "source": [
    "list_of_num = list(range(1,6))\n",
    "print(list_of_num)"
   ]
  },
  {
   "cell_type": "markdown",
   "metadata": {},
   "source": [
    "So here's what's happening:\n",
    "\n",
    "- `range(1, 6)` gives you numbers from 1 to 5.\n",
    "- Wrapping that in `list()` turns the range into a list."
   ]
  },
  {
   "cell_type": "code",
   "execution_count": 10,
   "metadata": {},
   "outputs": [
    {
     "name": "stdout",
     "output_type": "stream",
     "text": [
      "[2, 4, 6, 8, 10]\n"
     ]
    }
   ],
   "source": [
    "list_of_even_num = list(range(2,11,2))\n",
    "print(list_of_even_num)"
   ]
  },
  {
   "cell_type": "markdown",
   "metadata": {},
   "source": [
    "Alright, now it’s time to have some fun with lists of numbers! We can use Python to create and manipulate lists in all sorts of cool ways. Whether you want to generate a list of square numbers, multiples, or any other pattern, Python's got your back!  \n",
    "\n",
    "We’ll dive into how to work with numerical lists and get creative with them. Let’s see how we can make and play around with numbers in Python!  "
   ]
  },
  {
   "cell_type": "code",
   "execution_count": 12,
   "metadata": {},
   "outputs": [
    {
     "name": "stdout",
     "output_type": "stream",
     "text": [
      "[1, 4, 9, 16, 25, 36, 49, 64, 81, 100]\n"
     ]
    }
   ],
   "source": [
    "squares_num = [x**2 for x in range(1,11)]\n",
    "print(squares_num)"
   ]
  },
  {
   "cell_type": "markdown",
   "metadata": {},
   "source": [
    "Sometimes you need to count down, right? Let’s create a list that counts down from 10 to 1:"
   ]
  },
  {
   "cell_type": "code",
   "execution_count": 15,
   "metadata": {},
   "outputs": [
    {
     "name": "stdout",
     "output_type": "stream",
     "text": [
      "[11, 10, 9, 8, 7, 6, 5, 4, 3, 2, 1]\n"
     ]
    }
   ],
   "source": [
    "countdown = list(range(11,0,-1))\n",
    "print(countdown)"
   ]
  },
  {
   "cell_type": "markdown",
   "metadata": {},
   "source": [
    "----"
   ]
  },
  {
   "cell_type": "markdown",
   "metadata": {},
   "source": [
    "### ****Simple Statistics with a List of Numbers****  \n",
    "\n",
    "Now that we’ve got some lists of numbers, let’s have some fun with simple statistics! Python makes it super easy to get useful info from our numbers, like averages, minimums, maximums, and more. \n",
    "\n",
    "Here are a few basic statistical operations you can perform on a list of numbers:"
   ]
  },
  {
   "cell_type": "markdown",
   "metadata": {},
   "source": [
    "The average is the sum of all the numbers divided by how many numbers there are. Let’s find the average of a list of numbers:\n"
   ]
  },
  {
   "cell_type": "code",
   "execution_count": 17,
   "metadata": {},
   "outputs": [
    {
     "name": "stdout",
     "output_type": "stream",
     "text": [
      "Average: 30.0\n"
     ]
    }
   ],
   "source": [
    "numbers = [10, 20, 30, 40, 50]\n",
    "average = sum(numbers) / len(numbers)\n",
    "print(\"Average:\",average)"
   ]
  },
  {
   "cell_type": "markdown",
   "metadata": {},
   "source": [
    "We used `sum()` to add up the numbers, and `len()` to count how many numbers are in the list. Then, we divided the sum by the count to get the average!"
   ]
  },
  {
   "cell_type": "markdown",
   "metadata": {},
   "source": [
    "Want to know the largest number in your list? You can use the `max()` function:"
   ]
  },
  {
   "cell_type": "code",
   "execution_count": 18,
   "metadata": {},
   "outputs": [
    {
     "name": "stdout",
     "output_type": "stream",
     "text": [
      "Maximum: 50\n"
     ]
    }
   ],
   "source": [
    "maximum = max(numbers)\n",
    "print('Maximum:',maximum)"
   ]
  },
  {
   "cell_type": "markdown",
   "metadata": {},
   "source": [
    "This will give you the biggest number in the list."
   ]
  },
  {
   "cell_type": "markdown",
   "metadata": {},
   "source": [
    "What about the smallest number? Use the `min()` function to find it:"
   ]
  },
  {
   "cell_type": "code",
   "execution_count": 19,
   "metadata": {},
   "outputs": [
    {
     "name": "stdout",
     "output_type": "stream",
     "text": [
      "Minimum: 10\n"
     ]
    }
   ],
   "source": [
    "minimum = min(numbers)\n",
    "print(\"Minimum:\", minimum)"
   ]
  },
  {
   "cell_type": "markdown",
   "metadata": {},
   "source": [
    "This will return the smallest number in the list."
   ]
  },
  {
   "cell_type": "markdown",
   "metadata": {},
   "source": [
    "The range is the difference between the largest and smallest numbers in the list. You can calculate it like this:"
   ]
  },
  {
   "cell_type": "code",
   "execution_count": 20,
   "metadata": {},
   "outputs": [
    {
     "name": "stdout",
     "output_type": "stream",
     "text": [
      "Range: 40\n"
     ]
    }
   ],
   "source": [
    "range_val = max(numbers) - min(numbers)\n",
    "print('Range:' ,range_val)"
   ]
  },
  {
   "cell_type": "markdown",
   "metadata": {},
   "source": [
    "This tells us how spread out the numbers are in the list."
   ]
  },
  {
   "cell_type": "markdown",
   "metadata": {},
   "source": [
    "---"
   ]
  },
  {
   "cell_type": "markdown",
   "metadata": {},
   "source": [
    "****So, we’ve covered a lot of fun stuff today! From creating and manipulating lists of numbers to performing simple statistical operations like finding the average, maximum, minimum, and range. We even explored how to calculate the median and how Python makes working with numbers super easy and fun!****\n",
    "\n",
    "****Now you’ve got the tools to work with numerical data in Python, whether you want to play around with lists or analyze some real-world data. The possibilities are endless! Keep practicing and experimenting, and you’ll get even better at using Python to crunch numbers and find useful insights.****\n",
    "\n"
   ]
  }
 ],
 "metadata": {
  "kernelspec": {
   "display_name": "Python 3",
   "language": "python",
   "name": "python3"
  },
  "language_info": {
   "codemirror_mode": {
    "name": "ipython",
    "version": 3
   },
   "file_extension": ".py",
   "mimetype": "text/x-python",
   "name": "python",
   "nbconvert_exporter": "python",
   "pygments_lexer": "ipython3",
   "version": "3.12.6"
  }
 },
 "nbformat": 4,
 "nbformat_minor": 2
}

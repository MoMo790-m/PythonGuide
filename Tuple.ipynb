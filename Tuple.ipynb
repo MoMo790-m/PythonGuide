{
 "cells": [
  {
   "cell_type": "markdown",
   "metadata": {},
   "source": [
    "# ****Tuples**** \n",
    "\n",
    "Lists are very useful when you need a collection of items that might change over time, such as tracking users on a website or characters in a game. The great thing about lists is that you can update, add, or remove items whenever needed. \n",
    "\n",
    "However, there are times when you need a collection of items that should not change at all. ***This is where `tuples` come in.*** \n",
    "\n",
    "A `tuple` is like a list, but it’s **unchangeable** once created. Python refers to these unchangeable values as **immutable**, and a tuple is essentially an immutable version of a list.\n"
   ]
  },
  {
   "cell_type": "markdown",
   "metadata": {},
   "source": [
    "## Tuples Again\n",
    "\n",
    "A **tuple** is just like a list, but instead of using square brackets `[]`, you use parentheses `()`. The catch? Once you create a tuple, you can’t change its values. You can still access items using their index, just like with a list, but you can’t modify them.\n",
    "\n"
   ]
  },
  {
   "cell_type": "markdown",
   "metadata": {},
   "source": [
    "***Imagine you’re working on a program where the days of the week should never change. You can store them in a tuple to make sure they stay fixed.***"
   ]
  },
  {
   "cell_type": "code",
   "execution_count": 1,
   "metadata": {},
   "outputs": [
    {
     "name": "stdout",
     "output_type": "stream",
     "text": [
      "The first day of the week is :Saturday\n",
      "The last day of the week Is :Friday\n"
     ]
    }
   ],
   "source": [
    "days_of_week = (\"Saturday\",'Sunday','Monday',\"Tuesday\",\"Wdnesday\",\"Thursday\",\"Friday\")\n",
    "\n",
    "\n",
    "print(f\"The first day of the week is :{days_of_week[0]}\")\n",
    "print(f\"The last day of the week Is :{days_of_week[-1]}\")"
   ]
  },
  {
   "cell_type": "markdown",
   "metadata": {},
   "source": [
    "- The variable days_of_week contains all seven days in order, stored as a tuple.\n",
    "- `days_of_week[0]` retrieves the first element `(Saturday)`.\n",
    "- `days_of_week[-1]` retrieves the last element `(Friday)` using negative indexing."
   ]
  },
  {
   "cell_type": "markdown",
   "metadata": {},
   "source": [
    "## ***TypeError When?***\n",
    "\n",
    "As mentioned earlier, tuples are **immutable**, meaning once you define them, their values can't be altered. Let’s look at another example where we try to change an element of a tuple.\n"
   ]
  },
  {
   "cell_type": "markdown",
   "metadata": {},
   "source": [
    "**Let's See.**"
   ]
  },
  {
   "cell_type": "code",
   "execution_count": 4,
   "metadata": {},
   "outputs": [
    {
     "ename": "TypeError",
     "evalue": "'tuple' object does not support item assignment",
     "output_type": "error",
     "traceback": [
      "\u001b[1;31m---------------------------------------------------------------------------\u001b[0m",
      "\u001b[1;31mTypeError\u001b[0m                                 Traceback (most recent call last)",
      "Cell \u001b[1;32mIn[4], line 3\u001b[0m\n\u001b[0;32m      1\u001b[0m points \u001b[38;5;241m=\u001b[39m (\u001b[38;5;241m20\u001b[39m,\u001b[38;5;241m30\u001b[39m)\n\u001b[1;32m----> 3\u001b[0m \u001b[43mpoints\u001b[49m\u001b[43m[\u001b[49m\u001b[38;5;241;43m0\u001b[39;49m\u001b[43m]\u001b[49m \u001b[38;5;241m=\u001b[39m \u001b[38;5;241m40\u001b[39m\n",
      "\u001b[1;31mTypeError\u001b[0m: 'tuple' object does not support item assignment"
     ]
    }
   ],
   "source": [
    "points = (20,30)\n",
    "\n",
    "points[0] = 40"
   ]
  },
  {
   "cell_type": "markdown",
   "metadata": {},
   "source": [
    "- We define a tuple `Points` with the values `(20, 30)`. We then try to change the value at index `0` from 20 to `40`. However, since tuples cannot be modified, Python will throw an error like this: ↑"
   ]
  },
  {
   "cell_type": "markdown",
   "metadata": {},
   "source": [
    "****if you need to change the values, you can create a new tuple or assign the modified value to a variable that represents the updated tuple.****"
   ]
  },
  {
   "cell_type": "code",
   "execution_count": 5,
   "metadata": {},
   "outputs": [
    {
     "name": "stdout",
     "output_type": "stream",
     "text": [
      "The Original Tuple:\n",
      "10\n",
      "20\n",
      "59\n",
      "70\n",
      "\n",
      "Modified Points:\n",
      "10\n",
      "25\n",
      "59\n",
      "70\n"
     ]
    }
   ],
   "source": [
    "points = (10, 20, 59, 70)\n",
    "print(\"Original Points:\")\n",
    "for point in points: \n",
    "    print(point)\n",
    "    \n",
    "\n",
    "points = (10, 25, 59, 70)\n",
    "print(\"\\nModified Points:\")\n",
    "for point in points:\n",
    "    print(point)"
   ]
  },
  {
   "cell_type": "markdown",
   "metadata": {},
   "source": [
    "- The initial tuple `points` is `(10, 20, 59, 70).`\n",
    "- We loop through and print each point from the original tuple.\n",
    "- Then, we create a new tuple `points = (10, 25, 59, 70)`, which replaces the original tuple.\n",
    "- We print each point from the newly assigned tuple."
   ]
  },
  {
   "cell_type": "markdown",
   "metadata": {},
   "source": [
    "## ***Looping Through All Values in a Tuple***\n",
    "\n",
    "Just like with a list, you can loop through all the values in a tuple using a `for` loop. This is a great way to access each item one by one and perform an action on it.\n"
   ]
  },
  {
   "cell_type": "code",
   "execution_count": 3,
   "metadata": {},
   "outputs": [
    {
     "name": "stdout",
     "output_type": "stream",
     "text": [
      "10\n",
      "20\n",
      "59\n",
      "70\n"
     ]
    }
   ],
   "source": [
    "points = (10,20,59,70)\n",
    "\n",
    "for point in points:\n",
    "    print(point)"
   ]
  },
  {
   "cell_type": "markdown",
   "metadata": {},
   "source": [
    "- The tuple `points` contains four values: `(10, 20, 59, 70)`.\n",
    "- The `for` loop goes through each value in the tuple one by one and prints it."
   ]
  },
  {
   "cell_type": "markdown",
   "metadata": {},
   "source": [
    "----"
   ]
  },
  {
   "cell_type": "markdown",
   "metadata": {},
   "source": [
    "***In comparison to lists, tuples are pretty straightforward data structures. They're great for situations where you need to store a collection of values that should remain unchanged throughout the program. So, whenever you need data that won’t change, using a tuple is the way to go.***\n",
    "\n",
    "**Next time, we'll dive into the `if statement`, which lets you make decisions in your program based on certain conditions.See You There**"
   ]
  }
 ],
 "metadata": {
  "kernelspec": {
   "display_name": "Python 3",
   "language": "python",
   "name": "python3"
  },
  "language_info": {
   "codemirror_mode": {
    "name": "ipython",
    "version": 3
   },
   "file_extension": ".py",
   "mimetype": "text/x-python",
   "name": "python",
   "nbconvert_exporter": "python",
   "pygments_lexer": "ipython3",
   "version": "3.12.6"
  }
 },
 "nbformat": 4,
 "nbformat_minor": 2
}

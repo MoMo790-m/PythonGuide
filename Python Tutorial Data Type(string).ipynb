{
 "cells": [
  {
   "cell_type": "markdown",
   "metadata": {},
   "source": [
    "# ***Data Types in Python***\n",
    "\n",
    "## Why Data Types Matter\n",
    "\n",
    "In programming, **data types** are crucial because they help us organize and process different kinds of information effectively. Most programs:\n",
    "1. **Define** and **gather** data from users, sensors, files, etc.\n",
    "2. Then, they **process** that data to do something useful, like displaying information, performing calculations, or making decisions.\n",
    "\n",
    "### What Are Data Types?\n",
    "\n",
    "A **data type** refers to the kind of value a variable holds, such as text, numbers, or more complex objects like lists or dictionaries. Understanding data types allows you to:\n",
    "- **Store** information correctly.\n",
    "- **Manipulate** and **process** it in the right way."
   ]
  },
  {
   "cell_type": "markdown",
   "metadata": {},
   "source": [
    "## Python Strings\n",
    "\n",
    "In Python, **strings** are a series of characters enclosed within quotes. Strings are one of the most common data types used in programming because they allow you to store and manipulate text.\n",
    "\n",
    "\n",
    "- A string can be created using either **single quotes** (`' '`) or **double quotes** (`\" \"`).\n",
    "- Anything placed between the quotes is considered a string."
   ]
  },
  {
   "cell_type": "code",
   "execution_count": 1,
   "metadata": {},
   "outputs": [
    {
     "name": "stdout",
     "output_type": "stream",
     "text": [
      "<class 'str'>\n",
      "<class 'str'>\n"
     ]
    }
   ],
   "source": [
    "string1 = ''\n",
    "print(type(string1))\n",
    "string2 = \"\" \n",
    "print(type(string2))"
   ]
  },
  {
   "cell_type": "markdown",
   "metadata": {},
   "source": [
    "#  ***Python String Methods***\n",
    "\n",
    "##  Methods That Take Parameters\n",
    "\n",
    "| **Method** | **Description** | **Parameters** |\n",
    "|:----------:|:----------|:--------------|\n",
    "| `str.center(width[, fillchar])` | Adds padding to center the string | `width`, `fillchar` (optional) |\n",
    "| `str.count(sub[, start[, end]])` | Counts the occurrences of a substring | `sub`, `start`, `end` (optional) |\n",
    "| `str.encode(encoding=\"utf-8\", errors=\"strict\")` | Returns the encoded string | `encoding`, `errors` |\n",
    "| `str.endswith(suffix[, start[, end]])` | Checks if the string ends with a substring | `suffix`, `start`, `end` (optional) |\n",
    "| `str.expandtabs(tabsize=8)` | Replaces tab characters with spaces | `tabsize` (optional) |\n",
    "| `str.find(sub[, start[, end]])` | Returns the first position of a substring | `sub`, `start`, `end` (optional) |\n",
    "| `str.format(*args, **kwargs)` | Formats the string based on the given inputs | `args`, `kwargs` |\n",
    "| `str.format_map(mapping)` | Formats the string using a dictionary | `mapping` |\n",
    "| `str.index(sub[, start[, end]])` | Returns the position of a substring, raises an exception if not found | `sub`, `start`, `end` (optional) |\n",
    "| `str.join(iterable)` | Joins elements of an iterable with the string as a separator | `iterable` |\n",
    "| `str.lstrip([chars])` | Removes characters from the start of the string | `chars` (optional) |\n",
    "| `str.partition(sep)` | Splits the string into three parts using the separator | `sep` |\n",
    "| `str.replace(old, new[, count])` | Replaces part of the string with another | `old`, `new`, `count` (optional) |\n",
    "| `str.rfind(sub[, start[, end]])` | Finds the last position of a substring | `sub`, `start`, `end` (optional) |\n",
    "| `str.rstrip([chars])` | Removes characters from the end of the string | `chars` (optional) |\n",
    "| `str.split(sep=None, maxsplit=-1)` | Splits the string into a list using the given separator | `sep`, `maxsplit` (optional) |\n",
    "| `str.startswith(prefix[, start[, end]])` | Checks if the string starts with a substring | `prefix`, `start`, `end` (optional) |\n",
    "| `str.strip([chars])` | Removes characters from the beginning and end of the string | `chars` (optional) |\n",
    "| `str.zfill(width)` | Pads the string with zeros to the specified width | `width` |\n",
    "\n",
    "\n",
    "\n"
   ]
  },
  {
   "cell_type": "markdown",
   "metadata": {},
   "source": [
    "###  Main Difference Between `find()` and `index()`:\n",
    "- **`find()`**: Returns **-1** if the substring is not found.\n",
    "- **`index()`**: Raises a **`ValueError` exception** if the substring is not found.\n",
    "\n",
    "\n",
    "\n",
    "###  When to Use Each?\n",
    "- Use **`find()`** if you simply want to check if the substring exists and don't care about handling errors.\n",
    "- Use **`index()`** if you need to ensure the substring exists and want to handle errors if it doesn't.\n"
   ]
  },
  {
   "cell_type": "code",
   "execution_count": 2,
   "metadata": {},
   "outputs": [],
   "source": [
    "# Exampel use of several string methods that take parameters :\n",
    "message = \"  Hello, Python developers! Let's learn string methods.  \"\n",
    "\n",
    "# 1. Using strip() to remove leading and trailing spaces\n",
    "clean_message = message.strip()\n",
    "\n",
    "# 2. Using replace() to replace a word with another\n",
    "replace_message = clean_message.replace('developers','programmers')\n",
    "\n",
    "# 3. Using find() to search for a word in the string\n",
    "position = replace_message.find('Python')\n",
    "\n",
    "# 4. Using split() to split the sentence into a list of words\n",
    "word_list = replace_message.split()\n",
    "\n",
    "# 5. Using center() to center the text with a specified width\n",
    "centered_message = replace_message.center(50,'-')"
   ]
  },
  {
   "cell_type": "code",
   "execution_count": 3,
   "metadata": {},
   "outputs": [
    {
     "name": "stdout",
     "output_type": "stream",
     "text": [
      "Original sentence after strip: Hello, Python developers! Let's learn string methods.\n",
      "Sentence after replacement: Hello, Python programmers! Let's learn string methods.\n",
      "Position of the word 'Python': 7\n",
      "List of words: ['Hello,', 'Python', 'programmers!', \"Let's\", 'learn', 'string', 'methods.']\n",
      "Sentence after centering: Hello, Python programmers! Let's learn string methods.\n"
     ]
    }
   ],
   "source": [
    "# Print results :\n",
    "print(\"Original sentence after strip:\", clean_message)\n",
    "print(\"Sentence after replacement:\", replace_message)\n",
    "print(\"Position of the word 'Python':\", position)\n",
    "print(\"List of words:\", word_list)\n",
    "print(\"Sentence after centering:\", centered_message)\n"
   ]
  },
  {
   "cell_type": "markdown",
   "metadata": {},
   "source": [
    "---"
   ]
  },
  {
   "cell_type": "markdown",
   "metadata": {},
   "source": [
    "##  Methods That Do Not Take Parameters\n",
    "\n",
    "| **Method** | **Description** |\n",
    "|:----------:|:----------|\n",
    "| `str.capitalize()` | Capitalizes the first letter of the string |\n",
    "| `str.casefold()` | Returns a lowercase version of the string (for case-insensitive comparison) |\n",
    "| `str.isalnum()` | Checks if the string contains only letters and numbers |\n",
    "| `str.isalpha()` | Checks if the string contains only letters |\n",
    "| `str.isascii()` | Checks if the string contains only ASCII characters |\n",
    "| `str.isdigit()` | Checks if the string contains only digits |\n",
    "| `str.islower()` | Checks if all characters in the string are lowercase |\n",
    "| `str.isnumeric()` | Checks if the string contains only numeric characters |\n",
    "| `str.isspace()` | Checks if the string contains only whitespace characters |\n",
    "| `str.istitle()` | Checks if the string follows title case (each word capitalized) |\n",
    "| `str.isupper()` | Checks if all characters in the string are uppercase |\n",
    "| `str.lower()` | Converts all characters to lowercase |\n",
    "| `str.title()` | Converts the first letter of each word to uppercase |\n",
    "| `str.upper()` | Converts all characters to uppercase |"
   ]
  },
  {
   "cell_type": "code",
   "execution_count": 4,
   "metadata": {},
   "outputs": [],
   "source": [
    "# Exampel use of several string methods that do not take parameters :\n",
    "text = \"Hello Mohamed\"\n",
    "\n",
    "# 1. Using strip() to remove leading and trailing whitespace\n",
    "stripped_text = text.strip()\n",
    "\n",
    "# 2. Using capitalize() to capitalize the first letter\n",
    "capitalized_text = stripped_text.capitalize()\n",
    "\n",
    "# 3. Using isalpha() to check if the string contains only letters\n",
    "is_alpha = stripped_text.isalpha()\n",
    "\n",
    "# 4. Using isupper() to check if all characters are uppercase\n",
    "is_upper = stripped_text.isupper()\n",
    "\n",
    "# 5. Using istitle() to check if the string is in title case\n",
    "is_titel = stripped_text.istitle()"
   ]
  },
  {
   "cell_type": "code",
   "execution_count": 5,
   "metadata": {},
   "outputs": [
    {
     "name": "stdout",
     "output_type": "stream",
     "text": [
      "Original Text: Hello Mohamed\n",
      "Stripped Text: Hello Mohamed\n",
      "Capitalized Text: Hello mohamed\n",
      "Is Stripped Text All Letters? False\n",
      "Is Stripped Text All Uppercase? False\n",
      "Is Stripped Text In Titel Case? True\n"
     ]
    }
   ],
   "source": [
    "# Print results :\n",
    "print(\"Original Text:\",text)\n",
    "print(\"Stripped Text:\",stripped_text)\n",
    "print(\"Capitalized Text:\",capitalized_text)\n",
    "print(\"Is Stripped Text All Letters?\",is_alpha)\n",
    "print(\"Is Stripped Text All Uppercase?\",is_upper)\n",
    "print(\"Is Stripped Text In Titel Case?\",is_titel)"
   ]
  },
  {
   "cell_type": "markdown",
   "metadata": {},
   "source": [
    "---"
   ]
  },
  {
   "cell_type": "markdown",
   "metadata": {},
   "source": [
    "# ***Avoiding Syntax Errors with Strings***"
   ]
  },
  {
   "cell_type": "markdown",
   "metadata": {},
   "source": [
    "## Syntax Errors in Strings\n",
    "\n",
    "A **syntax error** occurs when the Python interpreter cannot recognize a section of your code. This usually happens due to incorrect formatting or improper use of language constructs.\n",
    "\n",
    "\n",
    "**For Exampel :**\n",
    "\n",
    "A common syntax error in Python occurs when using an **apostrophe** (') inside a string that is enclosed in **single quotes** (`'`). \n",
    "\n",
    "### Problem:\n",
    "The Python interpreter considers everything between single quotes as a string. When you use an apostrophe (`'`) inside a string enclosed by single quotes, the interpreter thinks the string ends at the apostrophe and treats the rest as Python code, leading to a syntax error.\n"
   ]
  },
  {
   "cell_type": "code",
   "execution_count": 4,
   "metadata": {},
   "outputs": [
    {
     "ename": "SyntaxError",
     "evalue": "unterminated string literal (detected at line 3) (375741608.py, line 3)",
     "output_type": "error",
     "traceback": [
      "\u001b[1;36m  Cell \u001b[1;32mIn[4], line 3\u001b[1;36m\u001b[0m\n\u001b[1;33m    error_syntax = 'One of Python's strengths is its diverse community'\u001b[0m\n\u001b[1;37m                                                                      ^\u001b[0m\n\u001b[1;31mSyntaxError\u001b[0m\u001b[1;31m:\u001b[0m unterminated string literal (detected at line 3)\n"
     ]
    }
   ],
   "source": [
    "# Exampel 1\n",
    "text = \"One of Python's strengths is its diverse community\"\n",
    "error_syntax = 'One of Python's strengths is its diverse community'\n",
    "print(text)\n",
    "print(error_syntax)"
   ]
  },
  {
   "cell_type": "markdown",
   "metadata": {},
   "source": [
    "##### As you can see, the Python interpreter reads everything after the apostrophe as Python code, but when we use double quotes, a syntax error does not occur"
   ]
  },
  {
   "cell_type": "code",
   "execution_count": 5,
   "metadata": {},
   "outputs": [
    {
     "name": "stdout",
     "output_type": "stream",
     "text": [
      "One of Python's strengths is its diverse community\n"
     ]
    }
   ],
   "source": [
    "text = \"One of Python's strengths is its diverse community\"\n",
    "print(text)"
   ]
  }
 ],
 "metadata": {
  "kernelspec": {
   "display_name": "Python 3",
   "language": "python",
   "name": "python3"
  },
  "language_info": {
   "codemirror_mode": {
    "name": "ipython",
    "version": 3
   },
   "file_extension": ".py",
   "mimetype": "text/x-python",
   "name": "python",
   "nbconvert_exporter": "python",
   "pygments_lexer": "ipython3",
   "version": "3.12.6"
  }
 },
 "nbformat": 4,
 "nbformat_minor": 2
}

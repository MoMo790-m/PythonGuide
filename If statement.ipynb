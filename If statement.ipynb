{
 "cells": [
  {
   "cell_type": "markdown",
   "metadata": {},
   "source": [
    "# ***Making Decisions with `if` Statements*** \n",
    "\n",
    "In Python, `if` statements let your program decide what to do based on conditions. Instead of running every line of code no matter what, Python checks a condition first and if it’s `True`, it runs the code inside; if not, it skips it.  \n",
    "\n",
    "\n",
    "## **The Basics**\n",
    "\n",
    "An `if` statement follows a simple pattern:  \n",
    "\n",
    "```python\n",
    "if condition:\n",
    "    # This code runs only if the condition is True\n",
    "    do_something\n"
   ]
  },
  {
   "cell_type": "markdown",
   "metadata": {},
   "source": [
    "- The condition is just a test that gives `True` or `False`.  \n",
    "- If it’s `True`, Python runs the indented block of code.  \n",
    "- If it’s `False`, Python ignores it and moves on.  \n"
   ]
  },
  {
   "cell_type": "markdown",
   "metadata": {},
   "source": [
    "Sometimes, we want our program to check if a number is positive before performing an action. Using an `if` statement, we can ensure that certain code only runs when the condition is met.  \n",
    "\n",
    "For example, let’s check if a number is positive before printing a message:\n"
   ]
  },
  {
   "cell_type": "code",
   "execution_count": null,
   "metadata": {},
   "outputs": [
    {
     "name": "stdout",
     "output_type": "stream",
     "text": [
      "Positive Number\n"
     ]
    }
   ],
   "source": [
    "number = 10\n",
    "\n",
    "if number > 0:\n",
    "    print('This is a positive number')\n",
    "\n"
   ]
  },
  {
   "cell_type": "markdown",
   "metadata": {},
   "source": [
    "At `u`, Python checks to see whether the value of `number` is greater than `0`.  \n",
    "It is, so Python executes the indented `print()` call at `v`:  \n",
    "- **This is a positive number**"
   ]
  },
  {
   "cell_type": "markdown",
   "metadata": {},
   "source": [
    "Indentation in `if` statements works the same way as in `for` loops.  \n",
    "- If the condition is `True`, all indented lines after the `if` statement **will execute**.  \n",
    "- If the condition is `False`, Python **ignores the entire block**.  \n",
    "\n",
    "You can include as many lines as needed inside the block.  \n",
    "\n",
    "Let’s extend our example to add another message when the condition is met:  "
   ]
  },
  {
   "cell_type": "code",
   "execution_count": 3,
   "metadata": {},
   "outputs": [
    {
     "name": "stdout",
     "output_type": "stream",
     "text": [
      "This is a positive number\n",
      "Great! Positive numbers are greater than zero.\n"
     ]
    }
   ],
   "source": [
    "number = 10\n",
    "\n",
    "if number > 0:\n",
    "    print('This is a positive number')\n",
    "    print('Great! Positive numbers are greater than zero.')"
   ]
  },
  {
   "cell_type": "markdown",
   "metadata": {},
   "source": [
    "The conditional test passes, and both `print()` calls are indented, so both lines are printed:\n",
    "- **This is a positive number**  \n",
    "- **Great! Positive numbers are greater than zero.**"
   ]
  },
  {
   "cell_type": "markdown",
   "metadata": {},
   "source": [
    "## ***`if-else` Statements***\n",
    "\n",
    "Sometimes, we want our program to take **one action if a condition is `True`** and **a different action if it's `False`**.  \n",
    "The `else` statement lets us define what happens **when the condition fails**.\n",
    "\n",
    "Let’s check if a number is positive or not:"
   ]
  },
  {
   "cell_type": "code",
   "execution_count": 4,
   "metadata": {},
   "outputs": [
    {
     "name": "stdout",
     "output_type": "stream",
     "text": [
      "This is not a positive number.\n",
      "Negative numbers are less than zero.\n"
     ]
    }
   ],
   "source": [
    "number = -3\n",
    "\n",
    "if number > 0:\n",
    "    print(\"This is a positive number!\")\n",
    "    print(\"Positive numbers are greater than zero.\")\n",
    "else:\n",
    "    print(\"This is not a positive number.\")\n",
    "    print(\"Negative numbers are less than zero.\")"
   ]
  },
  {
   "cell_type": "markdown",
   "metadata": {},
   "source": [
    "If the conditional test at `u` passes, the first block of indented `print()` calls is executed.  \n",
    "If the test evaluates to `False`, the `else` block at `v` is executed.  \n",
    "\n",
    "Since `number` is less than or equal to `0` in this case, the conditional test fails, and the code inside the `else` block runs:\n",
    "\n",
    "- **This is not a positive number.**\n",
    "- **Negative numbers are less than zero.**"
   ]
  },
  {
   "cell_type": "markdown",
   "metadata": {},
   "source": [
    "This code works because there are only **two possible cases**:  \n",
    "1. The number is positive.  \n",
    "2. The number is not positive.  \n",
    "\n",
    "The `if-else` structure is useful when we want **Python to always execute one of two possible actions**.  \n",
    "In a simple `if-else` chain like this, **one of the two blocks will always run**, ensuring the program provides an output in every scenario."
   ]
  },
  {
   "cell_type": "markdown",
   "metadata": {},
   "source": [
    "## ***`if-elif-else` Chain***\n",
    "\n",
    "Sometimes, there are **more than two possible situations** to check. In such cases, we use an **`if-elif-else`** structure.  \n",
    "\n",
    "#### **Here's What Happens:**\n",
    "- Python **checks each condition in order**.\n",
    "- As soon as a condition is `True`, the corresponding block **executes**.\n",
    "- Python **skips the rest** of the conditions once it finds a match.\n",
    "\n",
    "Let’s say an amusement park charges different prices based on age:  \n",
    "\n",
    "- Kids under **4** get **free admission**.  \n",
    "- Ages **4 to 17** pay **$25**.  \n",
    "- Ages **18 and above** pay **$40**.  \n"
   ]
  },
  {
   "cell_type": "code",
   "execution_count": 5,
   "metadata": {},
   "outputs": [
    {
     "name": "stdout",
     "output_type": "stream",
     "text": [
      "Your admission cost is $25.\n"
     ]
    }
   ],
   "source": [
    "age = 12\n",
    "\n",
    "if age < 4:\n",
    "    print(\"Your admission cost is $0.\")\n",
    "elif age < 18:\n",
    "    print(\"Your admission cost is $25.\")\n",
    "else:\n",
    "    print(\"Your admission cost is $40.\")"
   ]
  },
  {
   "cell_type": "markdown",
   "metadata": {},
   "source": [
    "### ***Step-by-Step Execution***  \n",
    "\n",
    "1. The `if` test at **(u)** checks if the person is **under 4 years old**.  \n",
    "   - If `True`, it prints the message and **ignores the rest**.  \n",
    "   - If `False`, Python **moves to the next condition**.  \n",
    "\n",
    "2. The `elif` at **(v)** is another condition, which runs **only if the first test failed**.  \n",
    "   - At this point, we **already know** the person is **at least 4 years old**.  \n",
    "   - If the person is **under 18**, it prints the message and **skips the else block**.  \n",
    "\n",
    "3. If both the `if` and `elif` **fail**, the `else` block at **(w)** runs by default.  \n",
    "\n",
    "### ***Example Outcome:***\n",
    "- Here, `age = 12`, so the first test **fails** (`12` is not under `4`).  \n",
    "- The `elif` test **passes** (`12` is under `18`), so it prints:  \n",
    "- **Your admission cost is $25.**\n"
   ]
  },
  {
   "cell_type": "markdown",
   "metadata": {},
   "source": [
    "----"
   ]
  },
  {
   "cell_type": "markdown",
   "metadata": {},
   "source": [
    "*So, that’s the basics of `if`, `if-else`, and `if-elif-else` statements! We’ve seen how Python makes decisions by checking conditions step by step, and how it picks the right block of code to run.* *These statements are super useful when writing programs that need to react differently depending on the input.*\n",
    "\n",
    "*Next time, we’ll level up by exploring **Using Multiple `elif` Blocks, Omitting the `else` Block, and Testing Multiple Conditions** making our decision making even more flexible.*\n",
    "\n",
    "**Learning something new is like unlocking a new way of thinking. The more you challenge yourself, the more confident you become. Just keep going, and you’ll see real progress over time.**\n"
   ]
  }
 ],
 "metadata": {
  "kernelspec": {
   "display_name": "Python 3",
   "language": "python",
   "name": "python3"
  },
  "language_info": {
   "codemirror_mode": {
    "name": "ipython",
    "version": 3
   },
   "file_extension": ".py",
   "mimetype": "text/x-python",
   "name": "python",
   "nbconvert_exporter": "python",
   "pygments_lexer": "ipython3",
   "version": "3.12.6"
  }
 },
 "nbformat": 4,
 "nbformat_minor": 2
}

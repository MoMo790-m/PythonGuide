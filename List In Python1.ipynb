{
 "cells": [
  {
   "cell_type": "markdown",
   "metadata": {},
   "source": [
    "# ***Lists in Python***\n",
    "Lists allow you to store **sets of information** in one place, whether you have just a few items or millions. Lists are one of Python’s most powerful features, easily accessible to new programmers. They also help you tie together many important concepts in programming.\n",
    "\n",
    "## What Is a List?\n",
    "\n",
    "A list is a **collection of items in a particular order**. You can make a list that includes:\n",
    "- The letters of the alphabet\n",
    "- The digits from 0–9\n",
    "- The names of all the people in your family\n",
    "\n",
    "You can put anything you want into a list, and the items in your list don’t have to be related in any particular way.\n",
    "\n",
    "Since a list usually contains more than one element, it's a good practice to use **plural names** for your lists, such as `letters`, `digits`, or `names`.\n",
    "\n",
    "### Syntax\n",
    "In Python, square brackets `[]` are used to define a list, and the elements in the list are separated by commas."
   ]
  },
  {
   "cell_type": "code",
   "execution_count": 10,
   "metadata": {},
   "outputs": [
    {
     "name": "stdout",
     "output_type": "stream",
     "text": [
      "['appel', 'bannana', 'cherry', 'mango']\n"
     ]
    }
   ],
   "source": [
    "fruits = ['appel','bannana','cherry','mango']\n",
    "print(fruits)"
   ]
  },
  {
   "cell_type": "markdown",
   "metadata": {},
   "source": [
    "If you ask Python to print a list, it will return the list with square brackets, which is the **representation of the list**.\n",
    "\n",
    "However, you may not want to show the entire list to your users. Instead, you might want to access and print **individual items** from the list. Let’s see how you can do that."
   ]
  },
  {
   "cell_type": "markdown",
   "metadata": {},
   "source": [
    "## **Accessing Individual Items in a List**\n",
    "Lists are **ordered collections**, meaning each element in a list has a specific position. You can access any element in the list by telling Python the **position**, or **index**, of the item you want.\n",
    "\n",
    "To access an element in a list, you use the **name of the list** followed by the **index** of the item enclosed in square brackets.\n"
   ]
  },
  {
   "cell_type": "markdown",
   "metadata": {},
   "source": [
    "Let’s use the same `fruits` list and access different elements by their index."
   ]
  },
  {
   "cell_type": "code",
   "execution_count": 11,
   "metadata": {},
   "outputs": [
    {
     "name": "stdout",
     "output_type": "stream",
     "text": [
      "appel\n"
     ]
    }
   ],
   "source": [
    "fruits = ['appel','bannana','cherry','mango']\n",
    "print(fruits[0])"
   ]
  },
  {
   "cell_type": "markdown",
   "metadata": {},
   "source": [
    "- When you ask Python for a single item from a list, it returns just that element without the square brackets. This gives you the clean, neatly formatted output that you want your users to see.\n",
    "- In this case, Python returns only the element 'appel', without the square brackets."
   ]
  },
  {
   "cell_type": "markdown",
   "metadata": {},
   "source": [
    "## **Using String Methods on List Elements.**\n",
    "You can also apply **string methods** to any element in the list, just as you would with a regular string. This allows you to format the output even further.\n",
    " "
   ]
  },
  {
   "cell_type": "markdown",
   "metadata": {},
   "source": [
    "Let’s convert the first letter of an element to uppercase using the **title()** string method"
   ]
  },
  {
   "cell_type": "code",
   "execution_count": 12,
   "metadata": {},
   "outputs": [
    {
     "name": "stdout",
     "output_type": "stream",
     "text": [
      "Appel\n"
     ]
    }
   ],
   "source": [
    "fruits = ['appel','bannana','cherry','mango']\n",
    "print(fruits[0].title())"
   ]
  },
  {
   "cell_type": "markdown",
   "metadata": {},
   "source": [
    "This example produces the same output as the preceding example, except the word `'apple'` is capitalized.\n"
   ]
  },
  {
   "cell_type": "markdown",
   "metadata": {},
   "source": [
    "## **Index Positions Start at 0, Not 1**\n",
    "\n",
    "In Python, the **first item** in a list is at position **0**, not position 1. This is true for most programming languages and is related to how lists are implemented at a lower level.\n",
    "\n",
    "### Understanding Indexing\n",
    "\n",
    "If you're getting unexpected results when accessing list elements, it's likely due to an **off-by-one error**. Remember, **indexing starts at 0**.\n",
    "\n",
    "- The **second item** in a list has an index of `1`.\n",
    "- The **third item** has an index of `2`, and so on.\n",
    "\n",
    "Using this counting system, you can get any element from a list by subtracting **1** from its position.\n"
   ]
  },
  {
   "cell_type": "markdown",
   "metadata": {},
   "source": [
    "Accessing the `fourth item`"
   ]
  },
  {
   "cell_type": "code",
   "execution_count": 13,
   "metadata": {},
   "outputs": [
    {
     "name": "stdout",
     "output_type": "stream",
     "text": [
      "mango\n"
     ]
    }
   ],
   "source": [
    "fruits = ['appel','bannana','cherry','mango']\n",
    "print(fruits[3])"
   ]
  },
  {
   "cell_type": "markdown",
   "metadata": {},
   "source": [
    "In this example:\n",
    "\n",
    "- `'mango'` is the fourth item in the list, but you access it using **index** `3`."
   ]
  },
  {
   "cell_type": "markdown",
   "metadata": {},
   "source": [
    "## **Accessing the Last Element in a List**\n",
    "\n",
    "Python has a special syntax for accessing the **last element** in a list. By using the index `-1`, Python always returns the last item in the list, no matter how long the list is.\n",
    "\n",
    "### Negative Indexing\n",
    "\n",
    "- The index `-1` refers to the **last item** in the list.\n",
    "- The index `-2` refers to the **second-to-last item**, and so on.\n",
    "\n",
    "This is useful when you want to quickly access the last element without needing to know the exact length of the list."
   ]
  },
  {
   "cell_type": "markdown",
   "metadata": {},
   "source": [
    "Accessing the `last item`"
   ]
  },
  {
   "cell_type": "code",
   "execution_count": 14,
   "metadata": {},
   "outputs": [
    {
     "name": "stdout",
     "output_type": "stream",
     "text": [
      "mango\n"
     ]
    }
   ],
   "source": [
    "fruits = ['appel','bannana','cherry','mango']\n",
    "print(fruits[-1])"
   ]
  },
  {
   "cell_type": "markdown",
   "metadata": {},
   "source": [
    "In this example, even though `'mango'` is the fourth item in the list, we accessed it using **index** `-1`, which always points to the last item."
   ]
  },
  {
   "cell_type": "markdown",
   "metadata": {},
   "source": [
    "## **Using Individual Values from a List**\n",
    "\n",
    "You can use individual values from a list just as you would any other variable. This allows you to perform operations on these values or include them in other structures, such as **f-strings**.\n",
    "\n",
    "### Using f-strings with List Values\n",
    "\n",
    "F-strings are a convenient way to create messages or format output using values from a list. By accessing an element from a list, you can insert it into an f-string and create dynamic messages."
   ]
  },
  {
   "cell_type": "markdown",
   "metadata": {},
   "source": [
    "use an f-string to print a message with one of the fruits:\n"
   ]
  },
  {
   "cell_type": "code",
   "execution_count": 15,
   "metadata": {},
   "outputs": [
    {
     "name": "stdout",
     "output_type": "stream",
     "text": [
      "My favorite fruit is Bannana!\n"
     ]
    }
   ],
   "source": [
    "fruits = ['appel','bannana','cherry','mango']\n",
    "message = f'My favorite fruit is {fruits[1].title()}!'\n",
    "print(message)"
   ]
  },
  {
   "cell_type": "markdown",
   "metadata": {},
   "source": [
    "In this example:\n",
    "\n",
    "- We accessed the second element in the list `('bannan')`.\n",
    "- Using an **f-string**, we inserted the capitalized value into a message: `\"My favorite fruit is bannana!\".`"
   ]
  },
  {
   "cell_type": "markdown",
   "metadata": {},
   "source": [
    "## **Modifying Elements in a List**\n",
    "\n",
    "The syntax for modifying an element in a list is very similar to the syntax for accessing an element. To modify an element, you use the **name of the list**, followed by the **index** of the element you want to change, and then assign a **new value** to that element.\n"
   ]
  },
  {
   "cell_type": "markdown",
   "metadata": {},
   "source": [
    "Let’s change an element in our `fruits` list."
   ]
  },
  {
   "cell_type": "code",
   "execution_count": 16,
   "metadata": {},
   "outputs": [
    {
     "name": "stdout",
     "output_type": "stream",
     "text": [
      "['appel', 'bannana', 'cherry', 'mango']\n",
      "['appel', 'bannana', 'blueberry', 'mango']\n"
     ]
    }
   ],
   "source": [
    "fruits = ['appel','bannana','cherry','mango']\n",
    "print(fruits)\n",
    "\n",
    "fruits[2] = 'blueberry'\n",
    "print(fruits)"
   ]
  },
  {
   "cell_type": "markdown",
   "metadata": {},
   "source": [
    "- Initially, the list contains the items `['apple', 'banana', 'cherry', 'mango'].`\n",
    "- We then change the element at **index** `2`(which is `'cherry'`) to `'blueberry'`.\n",
    "- The updated list becomes `['apple', 'banana', 'blueberry', 'mango']`."
   ]
  }
 ],
 "metadata": {
  "kernelspec": {
   "display_name": "Python 3",
   "language": "python",
   "name": "python3"
  },
  "language_info": {
   "codemirror_mode": {
    "name": "ipython",
    "version": 3
   },
   "file_extension": ".py",
   "mimetype": "text/x-python",
   "name": "python",
   "nbconvert_exporter": "python",
   "pygments_lexer": "ipython3",
   "version": "3.12.6"
  }
 },
 "nbformat": 4,
 "nbformat_minor": 2
}

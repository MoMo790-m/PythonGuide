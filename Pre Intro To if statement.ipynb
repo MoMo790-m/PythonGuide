{
 "cells": [
  {
   "cell_type": "markdown",
   "metadata": {},
   "source": [
    "# ****if Statements**** \n",
    "\n",
    "When writing programs, we often need to make decisions based on specific conditions. Python’s `if` statement is a powerful tool that allows us to check the current state of the program and take actions accordingly. \n",
    "\n",
    "In this section, we'll dive into how `if` statements work."
   ]
  },
  {
   "cell_type": "markdown",
   "metadata": {},
   "source": [
    "\n",
    "**Let’s start with a simple example to see how `if` statements can help you handle specific situations.**"
   ]
  },
  {
   "cell_type": "markdown",
   "metadata": {},
   "source": [
    "***Imagine you have a list of fruits, and you want to print each fruit's name. Most fruit names should be printed in title case (e.g., \"Apple\"), but if the fruit is `'banana'`, it should be printed in uppercase (e.g., \"BANANA\").***"
   ]
  },
  {
   "cell_type": "code",
   "execution_count": 1,
   "metadata": {},
   "outputs": [
    {
     "name": "stdout",
     "output_type": "stream",
     "text": [
      "Apple\n",
      "BANANA\n",
      "Cherry\n",
      "Grape\n"
     ]
    }
   ],
   "source": [
    "fruits = ['apple', 'banana', 'cherry', 'grape']\n",
    "\n",
    "for fruit in fruits:\n",
    "    if fruit ==  'banana':\n",
    "        print(fruit.upper())\n",
    "    else:\n",
    "        print(fruit.title())"
   ]
  },
  {
   "cell_type": "markdown",
   "metadata": {},
   "source": [
    "- The program loops through the list `fruits` using a `for` loop.\n",
    "- For each fruit, the `if` statement checks if the fruit's name is `'banana'`.\n",
    "- If it is, the name is printed in uppercase using `upper()`.\n",
    "Otherwise, the name is printed in title case using `title()`."
   ]
  },
  {
   "cell_type": "markdown",
   "metadata": {
    "vscode": {
     "languageId": "bat"
    }
   },
   "source": [
    "##### **At the heart of every `if` statement is an expression called a `conditional test`. A conditional test is an expression that can be evaluated as `True` or `False`. Python uses these boolean values to decide whether the code inside an `if` statement should be executed.**\n",
    "\n",
    "\n"
   ]
  },
  {
   "cell_type": "markdown",
   "metadata": {},
   "source": [
    "****If the test is `True`, the code runs; if it's `False`, the code is ignored.****"
   ]
  },
  {
   "cell_type": "markdown",
   "metadata": {},
   "source": [
    "****`Checking for Equalit` One of the most common conditional tests is to check if the value of a variable is equal to another value.**** \n",
    "\n",
    "****(`==`)****\n"
   ]
  },
  {
   "cell_type": "markdown",
   "metadata": {},
   "source": [
    "***let’s check if someone’s score is exactly 100, which means they got a perfect score.***"
   ]
  },
  {
   "cell_type": "code",
   "execution_count": 3,
   "metadata": {},
   "outputs": [
    {
     "data": {
      "text/plain": [
       "False"
      ]
     },
     "execution_count": 3,
     "metadata": {},
     "output_type": "execute_result"
    }
   ],
   "source": [
    "score = 90\n",
    "score == 100"
   ]
  },
  {
   "cell_type": "markdown",
   "metadata": {},
   "source": [
    "- `score` is set to `90`.\n",
    "- The test `score == 100` checks if the score is equal to `100`.\n",
    "\n",
    "\n",
    "\n",
    "Since `90` is not equal to `100`, the result of this test is `False`."
   ]
  },
  {
   "cell_type": "markdown",
   "metadata": {},
   "source": [
    "***A single equal sign (`=`) is used for assignment, while a double equal sign (`==`) is used for comparison.***"
   ]
  },
  {
   "cell_type": "markdown",
   "metadata": {},
   "source": [
    "#### **In Python, when you check if two strings are equal, it takes capitalization into account. So if the strings have different uppercase or lowercase letters, they won’t be considered equal.**\n"
   ]
  },
  {
   "cell_type": "code",
   "execution_count": 4,
   "metadata": {},
   "outputs": [
    {
     "data": {
      "text/plain": [
       "False"
      ]
     },
     "execution_count": 4,
     "metadata": {},
     "output_type": "execute_result"
    }
   ],
   "source": [
    "username = 'Guest'\n",
    "username == 'guest'"
   ]
  },
  {
   "cell_type": "markdown",
   "metadata": {},
   "source": [
    "- We have a variable `username` set to `'Guest'`.\n",
    "- When comparing `'Guest'` to `'guest'`, Python returns `False` because the capitalization is different."
   ]
  },
  {
   "cell_type": "markdown",
   "metadata": {},
   "source": [
    "****To ignore case while comparing, you can use the `.lower()` method, which converts both strings to lowercase before comparing them:****"
   ]
  },
  {
   "cell_type": "code",
   "execution_count": 5,
   "metadata": {},
   "outputs": [
    {
     "data": {
      "text/plain": [
       "True"
      ]
     },
     "execution_count": 5,
     "metadata": {},
     "output_type": "execute_result"
    }
   ],
   "source": [
    "username = 'Guest'\n",
    "username.lower() == 'guest'"
   ]
  },
  {
   "cell_type": "markdown",
   "metadata": {},
   "source": [
    "In this case:\n",
    "\n",
    "- The `.lower()` method converts `username` to `'guest'`.\n",
    "- Now, we compare `'guest'` and `'guest'`, and since they match, the result is `True`."
   ]
  },
  {
   "cell_type": "markdown",
   "metadata": {},
   "source": [
    "**Using .lower() only affects the comparison and doesn’t modify the original string stored in the variable.**"
   ]
  },
  {
   "cell_type": "code",
   "execution_count": 6,
   "metadata": {},
   "outputs": [
    {
     "data": {
      "text/plain": [
       "'Guest'"
      ]
     },
     "execution_count": 6,
     "metadata": {},
     "output_type": "execute_result"
    }
   ],
   "source": [
    "username"
   ]
  },
  {
   "cell_type": "markdown",
   "metadata": {},
   "source": [
    "The value of `username`stays `'Guest'`."
   ]
  },
  {
   "cell_type": "markdown",
   "metadata": {},
   "source": [
    "****When you want to check if two values are **not equal**, you can use the inequality operator `!=`. This operator combines an exclamation point (`!`) and an equal sign (`=`), where the exclamation point stands for \"not\", as it does in many other programming languages.****"
   ]
  },
  {
   "cell_type": "markdown",
   "metadata": {},
   "source": [
    "***Imagine You are checking if a user is allowed to enter a restricted area. If the user is not an admin, they should be denied access.***\n"
   ]
  },
  {
   "cell_type": "code",
   "execution_count": 8,
   "metadata": {},
   "outputs": [
    {
     "name": "stdout",
     "output_type": "stream",
     "text": [
      "Access denied. You must be an admin.\n"
     ]
    }
   ],
   "source": [
    "user_role = 'Guest'\n",
    "\n",
    "if user_role.lower() != 'admin':\n",
    "    print('Access denied. You must be an admin.')"
   ]
  },
  {
   "cell_type": "markdown",
   "metadata": {},
   "source": [
    "- The variable `user_role` is assigned the value `'guest'`.\n",
    "- The `if` statement checks if `user_role` is not equal to `'admin'` using the `!=` operator.\n",
    "- Since `'guest'` is not equal to `'admin'`, the condition evaluates to `True`, and Python runs the code inside the `if` block.\n",
    "\n",
    "\n",
    "The message \"**Access denied. You must be an admin.**\"is printed."
   ]
  },
  {
   "cell_type": "markdown",
   "metadata": {},
   "source": [
    "**Sometimes, you need to check more than one condition at the same time in your program. For example, you might want to check if two conditions are both true, or maybe you're okay with just one condition being true. In Python, you can use the keywords `and` and `or` to help you with this.**\n",
    "\n",
    "\n",
    " "
   ]
  },
  {
   "cell_type": "markdown",
   "metadata": {},
   "source": [
    "1 - **If you need **both** conditions to be true for something to happen, use `and`. This means that **all** the conditions must be true for the overall statement to be true.**"
   ]
  },
  {
   "cell_type": "code",
   "execution_count": 9,
   "metadata": {},
   "outputs": [
    {
     "name": "stdout",
     "output_type": "stream",
     "text": [
      "At least one of them is not over 21.\n"
     ]
    }
   ],
   "source": [
    "age_0 = 25\n",
    "age_1 = 18\n",
    "\n",
    "if age_0 >= 21 and age_1 >= 21:\n",
    "    print(\"Both are over 21.\")\n",
    "else:\n",
    "    print(\"At least one of them is not over 21.\")"
   ]
  },
  {
   "cell_type": "markdown",
   "metadata": {},
   "source": [
    "- Here, we check if both `age_0` and `age_1` are greater than or equal to 21.\n",
    "- In this case, `age_0` is 25 (true), but `age_1` is 18 (false).\n",
    "- Since both conditions must be true for the action to happen, the program will print \"**At least one of them is not over 21**.\""
   ]
  },
  {
   "cell_type": "markdown",
   "metadata": {},
   "source": [
    "**Changing the Condition to Make Both True**"
   ]
  },
  {
   "cell_type": "code",
   "execution_count": 10,
   "metadata": {},
   "outputs": [
    {
     "name": "stdout",
     "output_type": "stream",
     "text": [
      "Both are over 21.\n"
     ]
    }
   ],
   "source": [
    "age_1 = 22\n",
    "\n",
    "if age_0 >= 21 and age_1 >= 21:\n",
    "    print(\"Both are over 21.\")\n",
    "else:\n",
    "    print(\"At least one of them is not over 21.\")"
   ]
  },
  {
   "cell_type": "markdown",
   "metadata": {},
   "source": [
    " - Now both `age_0` and `age_1` are over 21, so the program will print \"**Both are over 21**.\""
   ]
  },
  {
   "cell_type": "markdown",
   "metadata": {},
   "source": [
    "2 - ****On the other hand, if you only need one condition to be true for something to happen, you can use `or`. This means that if either of the conditions is true, the action will occur.****"
   ]
  },
  {
   "cell_type": "markdown",
   "metadata": {},
   "source": [
    "**Checking if Either of Two People Is Over 21**"
   ]
  },
  {
   "cell_type": "code",
   "execution_count": 11,
   "metadata": {},
   "outputs": [
    {
     "name": "stdout",
     "output_type": "stream",
     "text": [
      "At least one of them is over 21.\n"
     ]
    }
   ],
   "source": [
    "age_0 = 20\n",
    "age_1 = 22\n",
    "\n",
    "if age_0 >= 21 or age_1 >= 21:\n",
    "    print(\"At least one of them is over 21.\")\n",
    "else:\n",
    "    print(\"Neither of them is over 21.\")\n"
   ]
  },
  {
   "cell_type": "markdown",
   "metadata": {},
   "source": [
    "- Here, `age_0` is 20 (false), but `age_1` is 22 (true).\n",
    "- Since only one condition needs to be true, the program will print \"**At least one of them is over 21**.\""
   ]
  },
  {
   "cell_type": "markdown",
   "metadata": {},
   "source": [
    "****Use `and` when all conditions need to be true.****\n",
    "\n",
    "\n",
    "\n",
    "****Use `or` when at least one condition needs to be true.****"
   ]
  },
  {
   "cell_type": "markdown",
   "metadata": {},
   "source": [
    "----"
   ]
  },
  {
   "cell_type": "markdown",
   "metadata": {},
   "source": [
    "***In the next session, we'll continue exploring conditional statements and dive into how to check if a value is present in a list using the `in` keyword. This will allow us to make more efficient decisions and improve our code even further.***\n",
    "\n",
    "***Stay tuned for the next part of the series, where we'll tackle checking if values are in a list.See you there.***"
   ]
  }
 ],
 "metadata": {
  "kernelspec": {
   "display_name": "Python 3",
   "language": "python",
   "name": "python3"
  },
  "language_info": {
   "codemirror_mode": {
    "name": "ipython",
    "version": 3
   },
   "file_extension": ".py",
   "mimetype": "text/x-python",
   "name": "python",
   "nbconvert_exporter": "python",
   "pygments_lexer": "ipython3",
   "version": "3.12.6"
  }
 },
 "nbformat": 4,
 "nbformat_minor": 2
}

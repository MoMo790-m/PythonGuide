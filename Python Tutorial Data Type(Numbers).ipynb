{
 "cells": [
  {
   "cell_type": "markdown",
   "metadata": {},
   "source": [
    "# ***Numbers in Python***\n",
    "\n",
    "\n",
    "**Numbers** are an important data type that you can use in different programming languages. We can use numbers in various scenarios, such as keeping score in games, representing data in visualizations, storing information in web applications, and more.\n",
    "\n",
    "Python handles numbers in different ways depending on the type of number being used. Now, let's take a closer look at how Python deals with **integers** and **floats**, depending on how they’re used."
   ]
  },
  {
   "cell_type": "markdown",
   "metadata": {},
   "source": [
    "# ***1. Integer*** \n",
    "\n",
    "In Python, we can use all arithmetic operations on integers:\n",
    "\n",
    "- `+` for addition\n",
    "- `-` for subtraction\n",
    "- `/` for division (floating-point)\n",
    "- `//` for floor division (integer division)\n",
    "- `*` for multiplication\n",
    "- `%` for modulus (remainder)\n",
    "- `**` for power (exponentiation)\n"
   ]
  },
  {
   "cell_type": "code",
   "execution_count": 8,
   "metadata": {},
   "outputs": [
    {
     "name": "stdout",
     "output_type": "stream",
     "text": [
      "10\n",
      "4\n",
      "21\n",
      "2.3333333333333335\n",
      "2\n",
      "1\n",
      "343\n"
     ]
    }
   ],
   "source": [
    "# Exampels :\n",
    "num1 = 7\n",
    "num2 = 3\n",
    "\n",
    "# Addition: 7 + 3 = 10\n",
    "result_add = num1 + num2  # 10\n",
    "print(result_add)\n",
    "\n",
    "# Subtraction: 7 - 3 = 4\n",
    "result_sub = num1 - num2  # 4\n",
    "print(result_sub)\n",
    "\n",
    "# Multiplication: 7 * 3 = 21\n",
    "result_mul = num1 * num2  # 21\n",
    "print(result_mul)\n",
    "\n",
    "# Division: 7 / 3 = 2.3333333333333335\n",
    "result_div = num1 / num2  # 2.3333333333333335\n",
    "print(result_div)\n",
    "\n",
    "# Floor Division (integer division): 7 // 3 = 2\n",
    "result_floordiv = num1 // num2  # 2\n",
    "print(result_floordiv)\n",
    "\n",
    "# Modulus: 7 % 3 = 1\n",
    "result_mod = num1 % num2  # 1\n",
    "print(result_mod)\n",
    "\n",
    "# Exponentiation: 7 ** 3 = 343\n",
    "result_exp = num1 ** num2  # 343\n",
    "print(result_exp)\n",
    "\n"
   ]
  },
  {
   "cell_type": "markdown",
   "metadata": {},
   "source": [
    "# ***Difference Between Division `/` and Floor Division `//`***\n",
    "\n",
    "###  Division `/` vs. Floor Division `//`:\n",
    "- **Division `/`** returns a floating-point result, even if both operands are integers.\n",
    "- **Floor Division `//`** returns the result of division without the fractional part.\n"
   ]
  },
  {
   "cell_type": "markdown",
   "metadata": {},
   "source": [
    "---"
   ]
  },
  {
   "cell_type": "markdown",
   "metadata": {},
   "source": [
    "# ***Operator Precedence in Python***\n",
    "\n",
    "Keep in mind that operations in Python depend on the order of precedence. Python follows a specific precedence for arithmetic operations, listed from highest to lowest:\n",
    "\n",
    "1. **Parentheses** `()`\n",
    "2. **Exponentiation** `**`\n",
    "3. **Multiplication**, **Division**, **Floor Division**, **Modulus** `*`, `/`, `//`, `%`\n",
    "4. **Addition** and **Subtraction** `+`, `-`\n",
    "\n",
    "This precedence ensures that operations are performed in the correct order unless you explicitly override it using parentheses.\n"
   ]
  },
  {
   "cell_type": "code",
   "execution_count": 9,
   "metadata": {},
   "outputs": [
    {
     "name": "stdout",
     "output_type": "stream",
     "text": [
      "13\n",
      "16\n"
     ]
    }
   ],
   "source": [
    "# Exampel \n",
    "print(3 + 5 * 2)\n",
    "print((3 + 5) * 2)"
   ]
  },
  {
   "cell_type": "markdown",
   "metadata": {},
   "source": [
    "##### The spacing in these examples has no effect on how Python evaluates the expressions; it simply helps you more quickly spot the operations that have priority when you’re reading through the code."
   ]
  },
  {
   "cell_type": "markdown",
   "metadata": {},
   "source": [
    "---"
   ]
  },
  {
   "cell_type": "markdown",
   "metadata": {},
   "source": [
    "# ***2. Float***"
   ]
  },
  {
   "cell_type": "markdown",
   "metadata": {},
   "source": [
    "#### In Python, **any number with a decimal point** is considered a `float`.  \n",
    "The decimal point can appear at any position within the number.\n",
    "\n",
    "#### Managing Decimal Numbers in Programming Languages:\n",
    "\n",
    "Every programming language must be carefully designed to handle **decimal numbers** properly.  \n",
    "This ensures that **numbers** behave correctly no matter where the decimal point appears.\n",
    "\n",
    "#### Arithmetic Operations on Floats:\n",
    "\n",
    "In Python, we can also perform **all arithmetic operations** on `float`\n",
    "\n",
    "**But be aware that you can sometimes get an arbitrary number of decimal places in your answer**"
   ]
  },
  {
   "cell_type": "code",
   "execution_count": 10,
   "metadata": {},
   "outputs": [
    {
     "name": "stdout",
     "output_type": "stream",
     "text": [
      "7.5\n",
      "3.5\n",
      "11.0\n",
      "2.75\n",
      "2.0\n",
      "1.5\n",
      "30.25\n"
     ]
    }
   ],
   "source": [
    "# Exampel\n",
    "num1 = 5.5 \n",
    "num2 = 2.0\n",
    "\n",
    "# Addition: 5.5 + 2.0 = 7.5\n",
    "result_add = num1 + num2  # 7.5\n",
    "print(result_add)\n",
    "\n",
    "# Subtraction: 5.5 - 2.0 = 3.5\n",
    "result_sub = num1 - num2  # 3.5\n",
    "print(result_sub)\n",
    "\n",
    "# Multiplication: 5.5 * 2.0 = 11.0\n",
    "result_mul = num1 * num2  # 11.0\n",
    "print(result_mul)\n",
    "\n",
    "# Division: 5.5 / 2.0 = 2.75\n",
    "result_div = num1 / num2  # 2.75\n",
    "print(result_div)\n",
    "\n",
    "# Floor Division (integer division): 5.5 // 2.0 = 2.0\n",
    "result_floordiv = num1 // num2  # 2.0\n",
    "print(result_floordiv)\n",
    "\n",
    "# Modulus: 5.5 % 2.0 = 1.5\n",
    "result_mod = num1 % num2  # 1.5\n",
    "print(result_mod)\n",
    "\n",
    "# Exponentiation: 5.5 ** 2.0 = 30.25\n",
    "result_exp = num1 ** num2  # 30.25\n",
    "print(result_exp)"
   ]
  },
  {
   "cell_type": "markdown",
   "metadata": {},
   "source": [
    "### Note on Using Floor Division (`//`) in Python\n",
    "\n",
    "In Python, the result of the **floor division** operation (`//`) depends on the types of numbers involved (integers or floats).\n",
    "\n",
    "#### 1. Floor Division with Integers:\n",
    "- When you divide **two integers** using `//`, the result will be an **integer**, representing the largest whole number that is less than or equal to the actual division result.\n",
    "\n",
    "\n",
    "#### 2. Floor Division with Floats:\n",
    "When dividing **two floats**, using `//`, the result will be a **float**. However, the fractional part is discarded (i.e., it's still \"floored\")\n",
    "\n",
    "#### 3. Floor Division with Float and Integer:\n",
    "When dividing a **float** and an **integer**, Python will convert the result to a **float** and then floor the result. The fractional part will still be discarded."
   ]
  },
  {
   "cell_type": "markdown",
   "metadata": {},
   "source": [
    "### ***In Generall***\n",
    "***If you mix an integer and a float in any other operation, you’ll get a \n",
    "float as well*** "
   ]
  },
  {
   "cell_type": "code",
   "execution_count": 1,
   "metadata": {},
   "outputs": [
    {
     "name": "stdout",
     "output_type": "stream",
     "text": [
      "4\n",
      "2.0\n",
      "3.0\n",
      "5.8\n"
     ]
    }
   ],
   "source": [
    "# Case 1\n",
    "result_case1 = 9 // 2 #> 4\n",
    "print(result_case1)\n",
    "\n",
    "# Case 2\n",
    "result_case2 = 9.5 // 3.2 #> 2.0\n",
    "print(result_case2)\n",
    "\n",
    "# Case 3\n",
    "result_case3 = 7.5 // 2 #> 3.0\n",
    "print(result_case3)\n",
    "\n",
    "# Generall Case\n",
    "result_gcase = 3.8 + 2 #> 5.8 and so on in another operation\n",
    "print(result_gcase)"
   ]
  },
  {
   "cell_type": "markdown",
   "metadata": {},
   "source": [
    "---"
   ]
  },
  {
   "cell_type": "markdown",
   "metadata": {},
   "source": [
    "# ***Using Underscores in Numbers for Readability***\n",
    "\n",
    "When dealing with long numbers in Python, you can use **underscores** (`_`) to group digits and make the numbers more readable. This feature is especially useful for large numbers like financial data or other large datasets.\n",
    "\n",
    "\n",
    "- Underscores have no impact on the numerical value of the number.\n",
    "- When printed, Python **ignores** the underscores and displays only the digits.\n",
    "- You can place underscores anywhere between the digits for better visual separation (such as separating thousands, millions, etc.).\n",
    "\n",
    " \n"
   ]
  },
  {
   "cell_type": "code",
   "execution_count": 2,
   "metadata": {},
   "outputs": [
    {
     "name": "stdout",
     "output_type": "stream",
     "text": [
      "1000000000\n"
     ]
    }
   ],
   "source": [
    "#### Example:\n",
    "\n",
    "large_number = 1_000_000_000  #> More readable\n",
    "print(large_number)  #> 1000000000"
   ]
  },
  {
   "cell_type": "markdown",
   "metadata": {},
   "source": [
    "---"
   ]
  },
  {
   "cell_type": "markdown",
   "metadata": {},
   "source": [
    "# ***Multiple Assignment in Python***\n",
    "\n",
    "In Python, you can assign values to multiple variables in a **single line**. This technique simplifies code and enhances readability, especially when initializing or updating several variables at once.\n",
    "\n",
    "- You separate the **variable names** with commas.\n",
    "- You do the same with the **values**.\n",
    "- Python assigns each value to its corresponding variable based on their position.\n",
    "- It’s essential that the **number of variables** matches the **number of values**.\n",
    "\n"
   ]
  },
  {
   "cell_type": "code",
   "execution_count": 3,
   "metadata": {},
   "outputs": [
    {
     "name": "stdout",
     "output_type": "stream",
     "text": [
      "10\n",
      "20\n",
      "30\n"
     ]
    }
   ],
   "source": [
    "#### Example:\n",
    "\n",
    "x, y, z = 10, 20, 30  # Multiple assignment\n",
    "print(x)  #> 10\n",
    "print(y)  #> 20\n",
    "print(z)  #> 3"
   ]
  },
  {
   "cell_type": "markdown",
   "metadata": {},
   "source": [
    "----"
   ]
  },
  {
   "cell_type": "markdown",
   "metadata": {},
   "source": [
    "# ***Constants in Python***\n",
    "\n",
    "A **constant** is similar to a variable, but its value is intended to remain **unchanged** throughout the lifetime of a program. While Python doesn't have built-in constant types, there is a common **convention** used by Python programmers to signify that a variable should be treated as a constant.\n",
    "\n",
    "- In Python, constants are indicated by writing the **variable name in all capital letters**.\n",
    "- Although Python doesn't enforce the immutability of constants, writing variable names in all capitals signals to other programmers that this value should **not be changed**.\n",
    "- Constants are useful for values that are **fixed** and need to remain consistent, such as mathematical values, thresholds, or configuration settings.\n",
    "\n"
   ]
  },
  {
   "cell_type": "code",
   "execution_count": 4,
   "metadata": {},
   "outputs": [
    {
     "name": "stdout",
     "output_type": "stream",
     "text": [
      "3.14159\n"
     ]
    }
   ],
   "source": [
    "# Exampel\n",
    "PI = 3.14159  #> treated as a constant\n",
    "print(PI)"
   ]
  }
 ],
 "metadata": {
  "kernelspec": {
   "display_name": "Python 3",
   "language": "python",
   "name": "python3"
  },
  "language_info": {
   "codemirror_mode": {
    "name": "ipython",
    "version": 3
   },
   "file_extension": ".py",
   "mimetype": "text/x-python",
   "name": "python",
   "nbconvert_exporter": "python",
   "pygments_lexer": "ipython3",
   "version": "3.12.6"
  }
 },
 "nbformat": 4,
 "nbformat_minor": 2
}

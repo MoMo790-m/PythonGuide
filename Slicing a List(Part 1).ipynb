{
 "cells": [
  {
   "cell_type": "markdown",
   "metadata": {},
   "source": [
    "# ***Working with Part of a List: Slicing a List***\n",
    "\n",
    "In Python, **slicing** a list means picking out a part of it. To do this, you give Python the **start** and **end** indices. Just like the `range()` function, Python will stop **right before** the end index you give it.\n",
    "\n",
    " \n"
   ]
  },
  {
   "cell_type": "markdown",
   "metadata": {},
   "source": [
    "### Example:\n",
    "If you want to get the **first three items** from a list, you'd use indices `0` through `3`. But, it will only give you items at indices `0`, `1`, and `2` (not `3`)."
   ]
  },
  {
   "cell_type": "code",
   "execution_count": null,
   "metadata": {},
   "outputs": [
    {
     "name": "stdout",
     "output_type": "stream",
     "text": [
      "['Mohamed', 'Ahmed', 'Mostafa']\n"
     ]
    }
   ],
   "source": [
    "names = [\"Mohamed\", \"Ahmed\", \"Mostafa\", \"Laith\", \"Noor\",'Mohaned']\n",
    "\n",
    "print(names[:3])\n",
    "\n"
   ]
  },
  {
   "cell_type": "markdown",
   "metadata": {},
   "source": [
    "- `names[:3]` is a slice that starts from the beginning of the list (index `0`) and goes up to, but does not include, index `3`.\n",
    "- So, it selects the Names at index `0`, `1`, and `2`. These are `Mohamed`, `Ahmed`, and `Mostafa`."
   ]
  },
  {
   "cell_type": "markdown",
   "metadata": {},
   "source": [
    "you can generate any subset of a list by using slicing. For example, if you want to grab the **second**, **third**, and **fourth** items from a list, you start the slice at index `1` and end it at index `4`. "
   ]
  },
  {
   "cell_type": "code",
   "execution_count": 2,
   "metadata": {},
   "outputs": [
    {
     "name": "stdout",
     "output_type": "stream",
     "text": [
      "['Ahmed', 'Mostafa', 'Laith']\n"
     ]
    }
   ],
   "source": [
    "names = [\"Mohamed\", \"Ahmed\", \"Mostafa\", \"Laith\", \"Noor\",'Mohaned']\n",
    "\n",
    "print(names[1:4])"
   ]
  },
  {
   "cell_type": "markdown",
   "metadata": {},
   "source": [
    "- This time, the slice starts with **'Ahmed'** and ends with **'Laith'**."
   ]
  },
  {
   "cell_type": "markdown",
   "metadata": {},
   "source": [
    "\n",
    "***If you leave out the first index in a slice, \n",
    "Python will automatically start the slice from the beginning of the list.***"
   ]
  },
  {
   "cell_type": "code",
   "execution_count": 4,
   "metadata": {},
   "outputs": [
    {
     "name": "stdout",
     "output_type": "stream",
     "text": [
      "['Mohamed', 'Ahmed', 'Mostafa', 'Laith']\n"
     ]
    }
   ],
   "source": [
    "names = [\"Mohamed\", \"Ahmed\", \"Mostafa\", \"Laith\", \"Noor\",'Mohaned']\n",
    "\n",
    "print(names[:4])"
   ]
  },
  {
   "cell_type": "markdown",
   "metadata": {},
   "source": [
    "\n",
    "- If you don't provide a starting index, Python will begin the slice from the **beginning** of the list"
   ]
  },
  {
   "cell_type": "markdown",
   "metadata": {},
   "source": [
    "***A similar syntax can be used if you want to slice the list **up to its end**.***\n",
    "***For example, to include all items from the **third one** to the **last**,  \n",
    "you can start at index `2` and leave the second index **empty**.***\n"
   ]
  },
  {
   "cell_type": "code",
   "execution_count": 5,
   "metadata": {},
   "outputs": [
    {
     "name": "stdout",
     "output_type": "stream",
     "text": [
      "['Mostafa', 'Laith', 'Noor', 'Mohaned']\n"
     ]
    }
   ],
   "source": [
    "names = [\"Mohamed\", \"Ahmed\", \"Mostafa\", \"Laith\", \"Noor\",'Mohaned']\n",
    "\n",
    "print(names[2:])"
   ]
  },
  {
   "cell_type": "markdown",
   "metadata": {},
   "source": [
    "- Python retrieves all items starting from the **third item** until the **end** of the list.\n"
   ]
  },
  {
   "cell_type": "markdown",
   "metadata": {},
   "source": [
    "- This way, you can grab all the items from any point in your list all the way to the end, no matter how long the list is.\n"
   ]
  },
  {
   "cell_type": "markdown",
   "metadata": {},
   "source": [
    "***Just keep in mind that a **negative index** gets an item based on how far it is from the end of the list.*** \n",
    "***So, you can get any slice starting from the end. For example, if you want the last three Names on the list,  \n",
    "you can use `names[-3:]`.***"
   ]
  },
  {
   "cell_type": "code",
   "execution_count": 6,
   "metadata": {},
   "outputs": [
    {
     "name": "stdout",
     "output_type": "stream",
     "text": [
      "['Laith', 'Noor', 'Mohaned']\n"
     ]
    }
   ],
   "source": [
    "names = [\"Mohamed\", \"Ahmed\", \"Mostafa\", \"Laith\", \"Noor\",'Mohaned']\n",
    "\n",
    "print(names[-3:])"
   ]
  },
  {
   "cell_type": "markdown",
   "metadata": {},
   "source": [
    "- This will print out the names of the **last three Names** and will keep working as the Names list **grows** or **shrinks**.\n"
   ]
  },
  {
   "cell_type": "markdown",
   "metadata": {},
   "source": [
    "****`Note`: You can add a third value inside the brackets to set a **step** in the slice.**** \n",
    "****When you include this, it tells Python how many items to **skip** between the items in the range you've chosen.****\n"
   ]
  },
  {
   "cell_type": "code",
   "execution_count": 7,
   "metadata": {},
   "outputs": [
    {
     "name": "stdout",
     "output_type": "stream",
     "text": [
      "['Mohamed', 'Mostafa']\n"
     ]
    }
   ],
   "source": [
    "names = [\"Mohamed\", \"Ahmed\", \"Mostafa\", \"Laith\", \"Noor\",'Mohaned']\n",
    "\n",
    "print(names[:4:2])"
   ]
  },
  {
   "cell_type": "markdown",
   "metadata": {},
   "source": [
    "****And that's a wrap!**** "
   ]
  }
 ],
 "metadata": {
  "kernelspec": {
   "display_name": "Python 3",
   "language": "python",
   "name": "python3"
  },
  "language_info": {
   "codemirror_mode": {
    "name": "ipython",
    "version": 3
   },
   "file_extension": ".py",
   "mimetype": "text/x-python",
   "name": "python",
   "nbconvert_exporter": "python",
   "pygments_lexer": "ipython3",
   "version": "3.12.6"
  }
 },
 "nbformat": 4,
 "nbformat_minor": 2
}
